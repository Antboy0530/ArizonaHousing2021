{
 "cells": [
  {
   "cell_type": "code",
   "execution_count": 1,
   "id": "b8682698",
   "metadata": {},
   "outputs": [],
   "source": [
    "import pandas as pd \n",
    "import numpy as np\n",
    "import re\n",
    "import matplotlib.pyplot as plt\n",
    "import seaborn as sns"
   ]
  },
  {
   "cell_type": "code",
   "execution_count": 2,
   "id": "93167be3",
   "metadata": {},
   "outputs": [
    {
     "data": {
      "text/html": [
       "<div>\n",
       "<style scoped>\n",
       "    .dataframe tbody tr th:only-of-type {\n",
       "        vertical-align: middle;\n",
       "    }\n",
       "\n",
       "    .dataframe tbody tr th {\n",
       "        vertical-align: top;\n",
       "    }\n",
       "\n",
       "    .dataframe thead th {\n",
       "        text-align: right;\n",
       "    }\n",
       "</style>\n",
       "<table border=\"1\" class=\"dataframe\">\n",
       "  <thead>\n",
       "    <tr style=\"text-align: right;\">\n",
       "      <th></th>\n",
       "      <th>Price</th>\n",
       "      <th>address</th>\n",
       "      <th>Local_area</th>\n",
       "      <th>zipcode</th>\n",
       "      <th>beds</th>\n",
       "      <th>baths</th>\n",
       "      <th>sqft</th>\n",
       "      <th>url</th>\n",
       "    </tr>\n",
       "  </thead>\n",
       "  <tbody>\n",
       "    <tr>\n",
       "      <th>0</th>\n",
       "      <td>229900</td>\n",
       "      <td>11444 N 28th Dr APT 14</td>\n",
       "      <td>Phoenix</td>\n",
       "      <td>85029</td>\n",
       "      <td>2.0</td>\n",
       "      <td>3.0</td>\n",
       "      <td>1498.0</td>\n",
       "      <td>https://www.zillow.com/homedetails/11444-N-28t...</td>\n",
       "    </tr>\n",
       "    <tr>\n",
       "      <th>1</th>\n",
       "      <td>294900</td>\n",
       "      <td>107 W Camino Rancho Lucido</td>\n",
       "      <td>Sahuarita</td>\n",
       "      <td>85629</td>\n",
       "      <td>4.0</td>\n",
       "      <td>3.0</td>\n",
       "      <td>1951.0</td>\n",
       "      <td>https://www.zillow.com/homedetails/107-W-Camin...</td>\n",
       "    </tr>\n",
       "    <tr>\n",
       "      <th>2</th>\n",
       "      <td>683100</td>\n",
       "      <td>3320 E Briarwood Ter</td>\n",
       "      <td>Phoenix</td>\n",
       "      <td>85048</td>\n",
       "      <td>4.0</td>\n",
       "      <td>4.0</td>\n",
       "      <td>3110.0</td>\n",
       "      <td>https://www.zillow.com/homedetails/3320-E-Bria...</td>\n",
       "    </tr>\n",
       "    <tr>\n",
       "      <th>3</th>\n",
       "      <td>260000</td>\n",
       "      <td>2401 N 70th St APT H</td>\n",
       "      <td>Scottsdale</td>\n",
       "      <td>85257</td>\n",
       "      <td>2.0</td>\n",
       "      <td>1.0</td>\n",
       "      <td>759.0</td>\n",
       "      <td>https://www.zillow.com/homedetails/2401-N-70th...</td>\n",
       "    </tr>\n",
       "    <tr>\n",
       "      <th>4</th>\n",
       "      <td>290900</td>\n",
       "      <td>3781 E Sierrita Rd</td>\n",
       "      <td>San Tan Valley</td>\n",
       "      <td>85143</td>\n",
       "      <td>2.0</td>\n",
       "      <td>2.0</td>\n",
       "      <td>1052.0</td>\n",
       "      <td>https://www.zillow.com/homedetails/3781-E-Sier...</td>\n",
       "    </tr>\n",
       "    <tr>\n",
       "      <th>...</th>\n",
       "      <td>...</td>\n",
       "      <td>...</td>\n",
       "      <td>...</td>\n",
       "      <td>...</td>\n",
       "      <td>...</td>\n",
       "      <td>...</td>\n",
       "      <td>...</td>\n",
       "      <td>...</td>\n",
       "    </tr>\n",
       "    <tr>\n",
       "      <th>562</th>\n",
       "      <td>499000</td>\n",
       "      <td>7024 W TOWNLEY Avenue</td>\n",
       "      <td>Peoria</td>\n",
       "      <td>85345</td>\n",
       "      <td>4.0</td>\n",
       "      <td>3.0</td>\n",
       "      <td>2608.0</td>\n",
       "      <td>https://www.point2homes.com/US/Home-For-Sale/A...</td>\n",
       "    </tr>\n",
       "    <tr>\n",
       "      <th>563</th>\n",
       "      <td>345990</td>\n",
       "      <td>2036 E JULIAN Drive</td>\n",
       "      <td>Casa Grande</td>\n",
       "      <td>85122</td>\n",
       "      <td>4.0</td>\n",
       "      <td>2.0</td>\n",
       "      <td>1880.0</td>\n",
       "      <td>https://www.point2homes.com/US/Home-For-Sale/A...</td>\n",
       "    </tr>\n",
       "    <tr>\n",
       "      <th>564</th>\n",
       "      <td>355000</td>\n",
       "      <td>7636 E Buena Vista Drive</td>\n",
       "      <td>Prescott Valley</td>\n",
       "      <td>86314</td>\n",
       "      <td>3.0</td>\n",
       "      <td>2.0</td>\n",
       "      <td>1286.0</td>\n",
       "      <td>https://www.point2homes.com/US/Home-For-Sale/A...</td>\n",
       "    </tr>\n",
       "    <tr>\n",
       "      <th>565</th>\n",
       "      <td>700000</td>\n",
       "      <td>16610 South 37th Way</td>\n",
       "      <td>Phoenix</td>\n",
       "      <td>85048</td>\n",
       "      <td>5.0</td>\n",
       "      <td>3.0</td>\n",
       "      <td>3250.0</td>\n",
       "      <td>https://www.point2homes.com/US/Home-For-Sale/A...</td>\n",
       "    </tr>\n",
       "    <tr>\n",
       "      <th>566</th>\n",
       "      <td>105000</td>\n",
       "      <td>3825 N Santa Cruz Road</td>\n",
       "      <td>Golden Valley</td>\n",
       "      <td>86413</td>\n",
       "      <td>3.0</td>\n",
       "      <td>2.0</td>\n",
       "      <td>1050.0</td>\n",
       "      <td>https://www.point2homes.com/US/Home-For-Sale/A...</td>\n",
       "    </tr>\n",
       "  </tbody>\n",
       "</table>\n",
       "<p>567 rows × 8 columns</p>\n",
       "</div>"
      ],
      "text/plain": [
       "      Price                     address           Local_area zipcode  beds  \\\n",
       "0    229900      11444 N 28th Dr APT 14              Phoenix   85029   2.0   \n",
       "1    294900  107 W Camino Rancho Lucido            Sahuarita   85629   4.0   \n",
       "2    683100        3320 E Briarwood Ter              Phoenix   85048   4.0   \n",
       "3    260000        2401 N 70th St APT H           Scottsdale   85257   2.0   \n",
       "4    290900          3781 E Sierrita Rd       San Tan Valley   85143   2.0   \n",
       "..      ...                         ...                  ...     ...   ...   \n",
       "562  499000       7024 W TOWNLEY Avenue               Peoria   85345   4.0   \n",
       "563  345990         2036 E JULIAN Drive          Casa Grande   85122   4.0   \n",
       "564  355000    7636 E Buena Vista Drive      Prescott Valley   86314   3.0   \n",
       "565  700000       16610 South 37th Way               Phoenix   85048   5.0   \n",
       "566  105000      3825 N Santa Cruz Road        Golden Valley   86413   3.0   \n",
       "\n",
       "     baths    sqft                                                url  \n",
       "0      3.0  1498.0  https://www.zillow.com/homedetails/11444-N-28t...  \n",
       "1      3.0  1951.0  https://www.zillow.com/homedetails/107-W-Camin...  \n",
       "2      4.0  3110.0  https://www.zillow.com/homedetails/3320-E-Bria...  \n",
       "3      1.0   759.0  https://www.zillow.com/homedetails/2401-N-70th...  \n",
       "4      2.0  1052.0  https://www.zillow.com/homedetails/3781-E-Sier...  \n",
       "..     ...     ...                                                ...  \n",
       "562    3.0  2608.0  https://www.point2homes.com/US/Home-For-Sale/A...  \n",
       "563    2.0  1880.0  https://www.point2homes.com/US/Home-For-Sale/A...  \n",
       "564    2.0  1286.0  https://www.point2homes.com/US/Home-For-Sale/A...  \n",
       "565    3.0  3250.0  https://www.point2homes.com/US/Home-For-Sale/A...  \n",
       "566    2.0  1050.0  https://www.point2homes.com/US/Home-For-Sale/A...  \n",
       "\n",
       "[567 rows x 8 columns]"
      ]
     },
     "execution_count": 2,
     "metadata": {},
     "output_type": "execute_result"
    }
   ],
   "source": [
    "a = pd.read_csv(\"Zillowhouses.csv\")\n",
    "b = pd.read_csv(\"Scrapyhouses.csv\")\n",
    "\n",
    "frames = [a, b]\n",
    "var = pd.concat(frames, ignore_index=True)\n",
    "var"
   ]
  },
  {
   "cell_type": "code",
   "execution_count": 3,
   "id": "61f2db00",
   "metadata": {},
   "outputs": [
    {
     "data": {
      "text/plain": [
       "Price           int64\n",
       "address        object\n",
       "Local_area     object\n",
       "zipcode        object\n",
       "beds          float64\n",
       "baths         float64\n",
       "sqft          float64\n",
       "url            object\n",
       "dtype: object"
      ]
     },
     "execution_count": 3,
     "metadata": {},
     "output_type": "execute_result"
    }
   ],
   "source": [
    "var.dtypes"
   ]
  },
  {
   "cell_type": "markdown",
   "id": "6ac7496f",
   "metadata": {},
   "source": [
    "# Cleaning Data"
   ]
  },
  {
   "cell_type": "code",
   "execution_count": 4,
   "id": "e5380441",
   "metadata": {},
   "outputs": [
    {
     "data": {
      "text/plain": [
       "True"
      ]
     },
     "execution_count": 4,
     "metadata": {},
     "output_type": "execute_result"
    }
   ],
   "source": [
    "var['address'].duplicated().any()"
   ]
  },
  {
   "cell_type": "code",
   "execution_count": 5,
   "id": "e430b4d8",
   "metadata": {},
   "outputs": [
    {
     "data": {
      "text/html": [
       "<div>\n",
       "<style scoped>\n",
       "    .dataframe tbody tr th:only-of-type {\n",
       "        vertical-align: middle;\n",
       "    }\n",
       "\n",
       "    .dataframe tbody tr th {\n",
       "        vertical-align: top;\n",
       "    }\n",
       "\n",
       "    .dataframe thead th {\n",
       "        text-align: right;\n",
       "    }\n",
       "</style>\n",
       "<table border=\"1\" class=\"dataframe\">\n",
       "  <thead>\n",
       "    <tr style=\"text-align: right;\">\n",
       "      <th></th>\n",
       "      <th>Price</th>\n",
       "      <th>address</th>\n",
       "      <th>Local_area</th>\n",
       "      <th>zipcode</th>\n",
       "      <th>beds</th>\n",
       "      <th>baths</th>\n",
       "      <th>sqft</th>\n",
       "      <th>url</th>\n",
       "    </tr>\n",
       "  </thead>\n",
       "  <tbody>\n",
       "    <tr>\n",
       "      <th>354</th>\n",
       "      <td>3000000</td>\n",
       "      <td>14138 E PEAK VIEW Road</td>\n",
       "      <td>Scottsdale</td>\n",
       "      <td>85262</td>\n",
       "      <td>4.0</td>\n",
       "      <td>4.0</td>\n",
       "      <td>6000.0</td>\n",
       "      <td>https://www.point2homes.com/US/Home-For-Sale/A...</td>\n",
       "    </tr>\n",
       "    <tr>\n",
       "      <th>507</th>\n",
       "      <td>347000</td>\n",
       "      <td>4640 N Montezuma Ave</td>\n",
       "      <td>Lake Montezuma</td>\n",
       "      <td>86335</td>\n",
       "      <td>2.0</td>\n",
       "      <td>2.0</td>\n",
       "      <td>1613.0</td>\n",
       "      <td>https://www.point2homes.com/US/Home-For-Sale/A...</td>\n",
       "    </tr>\n",
       "  </tbody>\n",
       "</table>\n",
       "</div>"
      ],
      "text/plain": [
       "       Price                 address          Local_area zipcode  beds  baths  \\\n",
       "354  3000000  14138 E PEAK VIEW Road          Scottsdale   85262   4.0    4.0   \n",
       "507   347000    4640 N Montezuma Ave      Lake Montezuma   86335   2.0    2.0   \n",
       "\n",
       "       sqft                                                url  \n",
       "354  6000.0  https://www.point2homes.com/US/Home-For-Sale/A...  \n",
       "507  1613.0  https://www.point2homes.com/US/Home-For-Sale/A...  "
      ]
     },
     "execution_count": 5,
     "metadata": {},
     "output_type": "execute_result"
    }
   ],
   "source": [
    "duplicate = var[var['address'].duplicated()]\n",
    "duplicate"
   ]
  },
  {
   "cell_type": "code",
   "execution_count": 6,
   "id": "c3f71cf7",
   "metadata": {},
   "outputs": [
    {
     "data": {
      "text/html": [
       "<div>\n",
       "<style scoped>\n",
       "    .dataframe tbody tr th:only-of-type {\n",
       "        vertical-align: middle;\n",
       "    }\n",
       "\n",
       "    .dataframe tbody tr th {\n",
       "        vertical-align: top;\n",
       "    }\n",
       "\n",
       "    .dataframe thead th {\n",
       "        text-align: right;\n",
       "    }\n",
       "</style>\n",
       "<table border=\"1\" class=\"dataframe\">\n",
       "  <thead>\n",
       "    <tr style=\"text-align: right;\">\n",
       "      <th></th>\n",
       "      <th>Price</th>\n",
       "      <th>address</th>\n",
       "      <th>Local_area</th>\n",
       "      <th>zipcode</th>\n",
       "      <th>beds</th>\n",
       "      <th>baths</th>\n",
       "      <th>sqft</th>\n",
       "      <th>url</th>\n",
       "    </tr>\n",
       "  </thead>\n",
       "  <tbody>\n",
       "    <tr>\n",
       "      <th>320</th>\n",
       "      <td>2500000</td>\n",
       "      <td>14138 E PEAK VIEW Road</td>\n",
       "      <td>Scottsdale</td>\n",
       "      <td>85262</td>\n",
       "      <td>4.0</td>\n",
       "      <td>4.0</td>\n",
       "      <td>6000.0</td>\n",
       "      <td>https://www.point2homes.com/US/Home-For-Sale/A...</td>\n",
       "    </tr>\n",
       "    <tr>\n",
       "      <th>354</th>\n",
       "      <td>3000000</td>\n",
       "      <td>14138 E PEAK VIEW Road</td>\n",
       "      <td>Scottsdale</td>\n",
       "      <td>85262</td>\n",
       "      <td>4.0</td>\n",
       "      <td>4.0</td>\n",
       "      <td>6000.0</td>\n",
       "      <td>https://www.point2homes.com/US/Home-For-Sale/A...</td>\n",
       "    </tr>\n",
       "  </tbody>\n",
       "</table>\n",
       "</div>"
      ],
      "text/plain": [
       "       Price                 address      Local_area zipcode  beds  baths  \\\n",
       "320  2500000  14138 E PEAK VIEW Road      Scottsdale   85262   4.0    4.0   \n",
       "354  3000000  14138 E PEAK VIEW Road      Scottsdale   85262   4.0    4.0   \n",
       "\n",
       "       sqft                                                url  \n",
       "320  6000.0  https://www.point2homes.com/US/Home-For-Sale/A...  \n",
       "354  6000.0  https://www.point2homes.com/US/Home-For-Sale/A...  "
      ]
     },
     "execution_count": 6,
     "metadata": {},
     "output_type": "execute_result"
    }
   ],
   "source": [
    "var.loc[var['address'].str.contains(\"14138 E PEAK VIEW Road\")]"
   ]
  },
  {
   "cell_type": "code",
   "execution_count": 7,
   "id": "e53c289d",
   "metadata": {},
   "outputs": [],
   "source": [
    "var.drop([354, 507],axis=0,inplace=True)"
   ]
  },
  {
   "cell_type": "code",
   "execution_count": 8,
   "id": "00f07efa",
   "metadata": {},
   "outputs": [
    {
     "data": {
      "text/html": [
       "<div>\n",
       "<style scoped>\n",
       "    .dataframe tbody tr th:only-of-type {\n",
       "        vertical-align: middle;\n",
       "    }\n",
       "\n",
       "    .dataframe tbody tr th {\n",
       "        vertical-align: top;\n",
       "    }\n",
       "\n",
       "    .dataframe thead th {\n",
       "        text-align: right;\n",
       "    }\n",
       "</style>\n",
       "<table border=\"1\" class=\"dataframe\">\n",
       "  <thead>\n",
       "    <tr style=\"text-align: right;\">\n",
       "      <th></th>\n",
       "      <th>Price</th>\n",
       "      <th>address</th>\n",
       "      <th>Local_area</th>\n",
       "      <th>zipcode</th>\n",
       "      <th>beds</th>\n",
       "      <th>baths</th>\n",
       "      <th>sqft</th>\n",
       "      <th>url</th>\n",
       "    </tr>\n",
       "  </thead>\n",
       "  <tbody>\n",
       "    <tr>\n",
       "      <th>0</th>\n",
       "      <td>229900</td>\n",
       "      <td>11444 N 28th Dr APT 14</td>\n",
       "      <td>Phoenix</td>\n",
       "      <td>85029</td>\n",
       "      <td>2.0</td>\n",
       "      <td>3.0</td>\n",
       "      <td>1498.0</td>\n",
       "      <td>https://www.zillow.com/homedetails/11444-N-28t...</td>\n",
       "    </tr>\n",
       "    <tr>\n",
       "      <th>1</th>\n",
       "      <td>294900</td>\n",
       "      <td>107 W Camino Rancho Lucido</td>\n",
       "      <td>Sahuarita</td>\n",
       "      <td>85629</td>\n",
       "      <td>4.0</td>\n",
       "      <td>3.0</td>\n",
       "      <td>1951.0</td>\n",
       "      <td>https://www.zillow.com/homedetails/107-W-Camin...</td>\n",
       "    </tr>\n",
       "    <tr>\n",
       "      <th>2</th>\n",
       "      <td>683100</td>\n",
       "      <td>3320 E Briarwood Ter</td>\n",
       "      <td>Phoenix</td>\n",
       "      <td>85048</td>\n",
       "      <td>4.0</td>\n",
       "      <td>4.0</td>\n",
       "      <td>3110.0</td>\n",
       "      <td>https://www.zillow.com/homedetails/3320-E-Bria...</td>\n",
       "    </tr>\n",
       "    <tr>\n",
       "      <th>3</th>\n",
       "      <td>260000</td>\n",
       "      <td>2401 N 70th St APT H</td>\n",
       "      <td>Scottsdale</td>\n",
       "      <td>85257</td>\n",
       "      <td>2.0</td>\n",
       "      <td>1.0</td>\n",
       "      <td>759.0</td>\n",
       "      <td>https://www.zillow.com/homedetails/2401-N-70th...</td>\n",
       "    </tr>\n",
       "    <tr>\n",
       "      <th>4</th>\n",
       "      <td>290900</td>\n",
       "      <td>3781 E Sierrita Rd</td>\n",
       "      <td>San Tan Valley</td>\n",
       "      <td>85143</td>\n",
       "      <td>2.0</td>\n",
       "      <td>2.0</td>\n",
       "      <td>1052.0</td>\n",
       "      <td>https://www.zillow.com/homedetails/3781-E-Sier...</td>\n",
       "    </tr>\n",
       "    <tr>\n",
       "      <th>...</th>\n",
       "      <td>...</td>\n",
       "      <td>...</td>\n",
       "      <td>...</td>\n",
       "      <td>...</td>\n",
       "      <td>...</td>\n",
       "      <td>...</td>\n",
       "      <td>...</td>\n",
       "      <td>...</td>\n",
       "    </tr>\n",
       "    <tr>\n",
       "      <th>560</th>\n",
       "      <td>499000</td>\n",
       "      <td>7024 W TOWNLEY Avenue</td>\n",
       "      <td>Peoria</td>\n",
       "      <td>85345</td>\n",
       "      <td>4.0</td>\n",
       "      <td>3.0</td>\n",
       "      <td>2608.0</td>\n",
       "      <td>https://www.point2homes.com/US/Home-For-Sale/A...</td>\n",
       "    </tr>\n",
       "    <tr>\n",
       "      <th>561</th>\n",
       "      <td>345990</td>\n",
       "      <td>2036 E JULIAN Drive</td>\n",
       "      <td>Casa Grande</td>\n",
       "      <td>85122</td>\n",
       "      <td>4.0</td>\n",
       "      <td>2.0</td>\n",
       "      <td>1880.0</td>\n",
       "      <td>https://www.point2homes.com/US/Home-For-Sale/A...</td>\n",
       "    </tr>\n",
       "    <tr>\n",
       "      <th>562</th>\n",
       "      <td>355000</td>\n",
       "      <td>7636 E Buena Vista Drive</td>\n",
       "      <td>Prescott Valley</td>\n",
       "      <td>86314</td>\n",
       "      <td>3.0</td>\n",
       "      <td>2.0</td>\n",
       "      <td>1286.0</td>\n",
       "      <td>https://www.point2homes.com/US/Home-For-Sale/A...</td>\n",
       "    </tr>\n",
       "    <tr>\n",
       "      <th>563</th>\n",
       "      <td>700000</td>\n",
       "      <td>16610 South 37th Way</td>\n",
       "      <td>Phoenix</td>\n",
       "      <td>85048</td>\n",
       "      <td>5.0</td>\n",
       "      <td>3.0</td>\n",
       "      <td>3250.0</td>\n",
       "      <td>https://www.point2homes.com/US/Home-For-Sale/A...</td>\n",
       "    </tr>\n",
       "    <tr>\n",
       "      <th>564</th>\n",
       "      <td>105000</td>\n",
       "      <td>3825 N Santa Cruz Road</td>\n",
       "      <td>Golden Valley</td>\n",
       "      <td>86413</td>\n",
       "      <td>3.0</td>\n",
       "      <td>2.0</td>\n",
       "      <td>1050.0</td>\n",
       "      <td>https://www.point2homes.com/US/Home-For-Sale/A...</td>\n",
       "    </tr>\n",
       "  </tbody>\n",
       "</table>\n",
       "<p>565 rows × 8 columns</p>\n",
       "</div>"
      ],
      "text/plain": [
       "      Price                     address           Local_area zipcode  beds  \\\n",
       "0    229900      11444 N 28th Dr APT 14              Phoenix   85029   2.0   \n",
       "1    294900  107 W Camino Rancho Lucido            Sahuarita   85629   4.0   \n",
       "2    683100        3320 E Briarwood Ter              Phoenix   85048   4.0   \n",
       "3    260000        2401 N 70th St APT H           Scottsdale   85257   2.0   \n",
       "4    290900          3781 E Sierrita Rd       San Tan Valley   85143   2.0   \n",
       "..      ...                         ...                  ...     ...   ...   \n",
       "560  499000       7024 W TOWNLEY Avenue               Peoria   85345   4.0   \n",
       "561  345990         2036 E JULIAN Drive          Casa Grande   85122   4.0   \n",
       "562  355000    7636 E Buena Vista Drive      Prescott Valley   86314   3.0   \n",
       "563  700000       16610 South 37th Way               Phoenix   85048   5.0   \n",
       "564  105000      3825 N Santa Cruz Road        Golden Valley   86413   3.0   \n",
       "\n",
       "     baths    sqft                                                url  \n",
       "0      3.0  1498.0  https://www.zillow.com/homedetails/11444-N-28t...  \n",
       "1      3.0  1951.0  https://www.zillow.com/homedetails/107-W-Camin...  \n",
       "2      4.0  3110.0  https://www.zillow.com/homedetails/3320-E-Bria...  \n",
       "3      1.0   759.0  https://www.zillow.com/homedetails/2401-N-70th...  \n",
       "4      2.0  1052.0  https://www.zillow.com/homedetails/3781-E-Sier...  \n",
       "..     ...     ...                                                ...  \n",
       "560    3.0  2608.0  https://www.point2homes.com/US/Home-For-Sale/A...  \n",
       "561    2.0  1880.0  https://www.point2homes.com/US/Home-For-Sale/A...  \n",
       "562    2.0  1286.0  https://www.point2homes.com/US/Home-For-Sale/A...  \n",
       "563    3.0  3250.0  https://www.point2homes.com/US/Home-For-Sale/A...  \n",
       "564    2.0  1050.0  https://www.point2homes.com/US/Home-For-Sale/A...  \n",
       "\n",
       "[565 rows x 8 columns]"
      ]
     },
     "execution_count": 8,
     "metadata": {},
     "output_type": "execute_result"
    }
   ],
   "source": [
    "var = var.reset_index(drop=True)\n",
    "var"
   ]
  },
  {
   "cell_type": "code",
   "execution_count": 9,
   "id": "66486ebc",
   "metadata": {},
   "outputs": [],
   "source": [
    "var['Local_area'] = [x.strip() for x in var['Local_area']] # clean spaces from data"
   ]
  },
  {
   "cell_type": "code",
   "execution_count": 10,
   "id": "9e0753e3",
   "metadata": {},
   "outputs": [
    {
     "data": {
      "text/plain": [
       "Price                                                    832000\n",
       "address                                  16437 E NICKLAUS Drive\n",
       "Local_area                                       Fountain Hills\n",
       "zipcode                                                   85268\n",
       "beds                                                        3.0\n",
       "baths                                                       4.0\n",
       "sqft                                                     3461.0\n",
       "url           https://www.point2homes.com/US/Home-For-Sale/A...\n",
       "Name: 354, dtype: object"
      ]
     },
     "execution_count": 10,
     "metadata": {},
     "output_type": "execute_result"
    }
   ],
   "source": [
    "var.iloc[354]"
   ]
  },
  {
   "cell_type": "markdown",
   "id": "a06fd752",
   "metadata": {},
   "source": [
    "## Fix nan values"
   ]
  },
  {
   "cell_type": "code",
   "execution_count": 11,
   "id": "340e93ba",
   "metadata": {},
   "outputs": [
    {
     "name": "stdout",
     "output_type": "stream",
     "text": [
      "<class 'pandas.core.frame.DataFrame'>\n",
      "RangeIndex: 565 entries, 0 to 564\n",
      "Data columns (total 8 columns):\n",
      " #   Column      Non-Null Count  Dtype  \n",
      "---  ------      --------------  -----  \n",
      " 0   Price       565 non-null    int64  \n",
      " 1   address     565 non-null    object \n",
      " 2   Local_area  565 non-null    object \n",
      " 3   zipcode     565 non-null    object \n",
      " 4   beds        563 non-null    float64\n",
      " 5   baths       563 non-null    float64\n",
      " 6   sqft        563 non-null    float64\n",
      " 7   url         565 non-null    object \n",
      "dtypes: float64(3), int64(1), object(4)\n",
      "memory usage: 35.4+ KB\n"
     ]
    }
   ],
   "source": [
    "var.info()"
   ]
  },
  {
   "cell_type": "code",
   "execution_count": 12,
   "id": "861ba9f3",
   "metadata": {},
   "outputs": [
    {
     "data": {
      "text/html": [
       "<div>\n",
       "<style scoped>\n",
       "    .dataframe tbody tr th:only-of-type {\n",
       "        vertical-align: middle;\n",
       "    }\n",
       "\n",
       "    .dataframe tbody tr th {\n",
       "        vertical-align: top;\n",
       "    }\n",
       "\n",
       "    .dataframe thead th {\n",
       "        text-align: right;\n",
       "    }\n",
       "</style>\n",
       "<table border=\"1\" class=\"dataframe\">\n",
       "  <thead>\n",
       "    <tr style=\"text-align: right;\">\n",
       "      <th></th>\n",
       "      <th>Price</th>\n",
       "      <th>address</th>\n",
       "      <th>Local_area</th>\n",
       "      <th>zipcode</th>\n",
       "      <th>beds</th>\n",
       "      <th>baths</th>\n",
       "      <th>sqft</th>\n",
       "      <th>url</th>\n",
       "    </tr>\n",
       "  </thead>\n",
       "  <tbody>\n",
       "    <tr>\n",
       "      <th>398</th>\n",
       "      <td>1000000</td>\n",
       "      <td>The Denovan Difference</td>\n",
       "      <td>Lake Havasu City</td>\n",
       "      <td>86403</td>\n",
       "      <td>NaN</td>\n",
       "      <td>NaN</td>\n",
       "      <td>NaN</td>\n",
       "      <td>https://www.point2homes.com/US/Home-For-Sale/A...</td>\n",
       "    </tr>\n",
       "    <tr>\n",
       "      <th>401</th>\n",
       "      <td>1000000</td>\n",
       "      <td>This Is What We Do - Before / After</td>\n",
       "      <td>Lake Havasu City</td>\n",
       "      <td>86403</td>\n",
       "      <td>NaN</td>\n",
       "      <td>NaN</td>\n",
       "      <td>NaN</td>\n",
       "      <td>https://www.point2homes.com/US/Home-For-Sale/A...</td>\n",
       "    </tr>\n",
       "  </tbody>\n",
       "</table>\n",
       "</div>"
      ],
      "text/plain": [
       "       Price                              address        Local_area zipcode  \\\n",
       "398  1000000               The Denovan Difference  Lake Havasu City   86403   \n",
       "401  1000000  This Is What We Do - Before / After  Lake Havasu City   86403   \n",
       "\n",
       "     beds  baths  sqft                                                url  \n",
       "398   NaN    NaN   NaN  https://www.point2homes.com/US/Home-For-Sale/A...  \n",
       "401   NaN    NaN   NaN  https://www.point2homes.com/US/Home-For-Sale/A...  "
      ]
     },
     "execution_count": 12,
     "metadata": {},
     "output_type": "execute_result"
    }
   ],
   "source": [
    "# find nan values\n",
    "var.loc[var.isna().any(axis=1), :]"
   ]
  },
  {
   "cell_type": "code",
   "execution_count": 13,
   "id": "2972a0b3",
   "metadata": {},
   "outputs": [
    {
     "name": "stdout",
     "output_type": "stream",
     "text": [
      "<class 'pandas.core.frame.DataFrame'>\n",
      "Int64Index: 563 entries, 0 to 564\n",
      "Data columns (total 8 columns):\n",
      " #   Column      Non-Null Count  Dtype  \n",
      "---  ------      --------------  -----  \n",
      " 0   Price       563 non-null    int64  \n",
      " 1   address     563 non-null    object \n",
      " 2   Local_area  563 non-null    object \n",
      " 3   zipcode     563 non-null    object \n",
      " 4   beds        563 non-null    float64\n",
      " 5   baths       563 non-null    float64\n",
      " 6   sqft        563 non-null    float64\n",
      " 7   url         563 non-null    object \n",
      "dtypes: float64(3), int64(1), object(4)\n",
      "memory usage: 39.6+ KB\n"
     ]
    }
   ],
   "source": [
    "var = var.drop(var.index[[398,401]], axis=0)\n",
    "var.info()"
   ]
  },
  {
   "cell_type": "code",
   "execution_count": null,
   "id": "31c0b6f1",
   "metadata": {},
   "outputs": [],
   "source": [
    "# var.to_csv('AZhousingData.csv', index = False)"
   ]
  },
  {
   "cell_type": "markdown",
   "id": "a2476bb1",
   "metadata": {},
   "source": [
    "# Analyzing Data"
   ]
  },
  {
   "cell_type": "code",
   "execution_count": 14,
   "id": "301303a5",
   "metadata": {},
   "outputs": [
    {
     "data": {
      "text/html": [
       "<div>\n",
       "<style scoped>\n",
       "    .dataframe tbody tr th:only-of-type {\n",
       "        vertical-align: middle;\n",
       "    }\n",
       "\n",
       "    .dataframe tbody tr th {\n",
       "        vertical-align: top;\n",
       "    }\n",
       "\n",
       "    .dataframe thead th {\n",
       "        text-align: right;\n",
       "    }\n",
       "</style>\n",
       "<table border=\"1\" class=\"dataframe\">\n",
       "  <thead>\n",
       "    <tr style=\"text-align: right;\">\n",
       "      <th></th>\n",
       "      <th>Price</th>\n",
       "      <th>beds</th>\n",
       "      <th>baths</th>\n",
       "      <th>sqft</th>\n",
       "    </tr>\n",
       "  </thead>\n",
       "  <tbody>\n",
       "    <tr>\n",
       "      <th>count</th>\n",
       "      <td>5.630000e+02</td>\n",
       "      <td>563.000000</td>\n",
       "      <td>563.000000</td>\n",
       "      <td>563.000000</td>\n",
       "    </tr>\n",
       "    <tr>\n",
       "      <th>mean</th>\n",
       "      <td>5.455896e+05</td>\n",
       "      <td>3.294849</td>\n",
       "      <td>2.477798</td>\n",
       "      <td>2085.946714</td>\n",
       "    </tr>\n",
       "    <tr>\n",
       "      <th>std</th>\n",
       "      <td>7.317538e+05</td>\n",
       "      <td>0.972079</td>\n",
       "      <td>0.861878</td>\n",
       "      <td>936.653497</td>\n",
       "    </tr>\n",
       "    <tr>\n",
       "      <th>min</th>\n",
       "      <td>1.775000e+04</td>\n",
       "      <td>1.000000</td>\n",
       "      <td>1.000000</td>\n",
       "      <td>420.000000</td>\n",
       "    </tr>\n",
       "    <tr>\n",
       "      <th>25%</th>\n",
       "      <td>3.208775e+05</td>\n",
       "      <td>3.000000</td>\n",
       "      <td>2.000000</td>\n",
       "      <td>1463.000000</td>\n",
       "    </tr>\n",
       "    <tr>\n",
       "      <th>50%</th>\n",
       "      <td>4.099000e+05</td>\n",
       "      <td>3.000000</td>\n",
       "      <td>2.000000</td>\n",
       "      <td>1903.000000</td>\n",
       "    </tr>\n",
       "    <tr>\n",
       "      <th>75%</th>\n",
       "      <td>5.950000e+05</td>\n",
       "      <td>4.000000</td>\n",
       "      <td>3.000000</td>\n",
       "      <td>2456.500000</td>\n",
       "    </tr>\n",
       "    <tr>\n",
       "      <th>max</th>\n",
       "      <td>1.500000e+07</td>\n",
       "      <td>8.000000</td>\n",
       "      <td>8.000000</td>\n",
       "      <td>8625.000000</td>\n",
       "    </tr>\n",
       "  </tbody>\n",
       "</table>\n",
       "</div>"
      ],
      "text/plain": [
       "              Price        beds       baths         sqft\n",
       "count  5.630000e+02  563.000000  563.000000   563.000000\n",
       "mean   5.455896e+05    3.294849    2.477798  2085.946714\n",
       "std    7.317538e+05    0.972079    0.861878   936.653497\n",
       "min    1.775000e+04    1.000000    1.000000   420.000000\n",
       "25%    3.208775e+05    3.000000    2.000000  1463.000000\n",
       "50%    4.099000e+05    3.000000    2.000000  1903.000000\n",
       "75%    5.950000e+05    4.000000    3.000000  2456.500000\n",
       "max    1.500000e+07    8.000000    8.000000  8625.000000"
      ]
     },
     "execution_count": 14,
     "metadata": {},
     "output_type": "execute_result"
    }
   ],
   "source": [
    "var.describe()"
   ]
  },
  {
   "cell_type": "code",
   "execution_count": 15,
   "id": "bf6ed7be",
   "metadata": {},
   "outputs": [
    {
     "data": {
      "text/plain": [
       "545589.6145648313"
      ]
     },
     "execution_count": 15,
     "metadata": {},
     "output_type": "execute_result"
    }
   ],
   "source": [
    "var.Price.mean()"
   ]
  },
  {
   "cell_type": "markdown",
   "id": "14a82cfb",
   "metadata": {},
   "source": [
    "## Region with Most houses?"
   ]
  },
  {
   "cell_type": "code",
   "execution_count": 16,
   "id": "8502f610",
   "metadata": {},
   "outputs": [
    {
     "data": {
      "text/plain": [
       "Phoenix         66\n",
       "Tucson          33\n",
       "Mesa            32\n",
       "Scottsdale      30\n",
       "Prescott        19\n",
       "                ..\n",
       "Saddlebrooke     1\n",
       "Green Valley     1\n",
       "Alpine           1\n",
       "Wittmann         1\n",
       "Sonoita          1\n",
       "Name: Local_area, Length: 109, dtype: int64"
      ]
     },
     "execution_count": 16,
     "metadata": {},
     "output_type": "execute_result"
    }
   ],
   "source": [
    "values = var['Local_area'].value_counts()\n",
    "values"
   ]
  },
  {
   "cell_type": "code",
   "execution_count": 17,
   "id": "e392ba2e",
   "metadata": {},
   "outputs": [
    {
     "data": {
      "image/png": "[encoded data removed]",
      "text/plain": [
       "<Figure size 432x288 with 1 Axes>"
      ]
     },
     "metadata": {
      "needs_background": "light"
     },
     "output_type": "display_data"
    }
   ],
   "source": [
    "regions = values.keys()[0:10]\n",
    "y = list(values)[0:10]\n",
    "\n",
    "pbar = plt.bar(regions, y)\n",
    "plt.xticks(rotation=90)\n",
    "plt.grid()\n",
    "plt.xlabel(\"Loca_area\")\n",
    "plt.ylabel(\"Houses\")\n",
    "plt.title('Region with most Houses', fontweight = 'bold')\n",
    "plt.show()"
   ]
  },
  {
   "cell_type": "markdown",
   "id": "4ea3c797",
   "metadata": {},
   "source": [
    "## Most Expensive Region"
   ]
  },
  {
   "cell_type": "code",
   "execution_count": 18,
   "id": "6d83dc07",
   "metadata": {},
   "outputs": [
    {
     "data": {
      "text/html": [
       "<div>\n",
       "<style scoped>\n",
       "    .dataframe tbody tr th:only-of-type {\n",
       "        vertical-align: middle;\n",
       "    }\n",
       "\n",
       "    .dataframe tbody tr th {\n",
       "        vertical-align: top;\n",
       "    }\n",
       "\n",
       "    .dataframe thead th {\n",
       "        text-align: right;\n",
       "    }\n",
       "</style>\n",
       "<table border=\"1\" class=\"dataframe\">\n",
       "  <thead>\n",
       "    <tr style=\"text-align: right;\">\n",
       "      <th></th>\n",
       "      <th>Local_area</th>\n",
       "      <th>Price</th>\n",
       "      <th>beds</th>\n",
       "      <th>baths</th>\n",
       "      <th>sqft</th>\n",
       "    </tr>\n",
       "  </thead>\n",
       "  <tbody>\n",
       "    <tr>\n",
       "      <th>63</th>\n",
       "      <td>Phoenix</td>\n",
       "      <td>38004632</td>\n",
       "      <td>226.0</td>\n",
       "      <td>168.5</td>\n",
       "      <td>132998.0</td>\n",
       "    </tr>\n",
       "    <tr>\n",
       "      <th>79</th>\n",
       "      <td>Scottsdale</td>\n",
       "      <td>36105600</td>\n",
       "      <td>108.0</td>\n",
       "      <td>88.0</td>\n",
       "      <td>88250.0</td>\n",
       "    </tr>\n",
       "    <tr>\n",
       "      <th>57</th>\n",
       "      <td>Paradise Valley</td>\n",
       "      <td>17900000</td>\n",
       "      <td>7.0</td>\n",
       "      <td>9.0</td>\n",
       "      <td>9148.0</td>\n",
       "    </tr>\n",
       "    <tr>\n",
       "      <th>53</th>\n",
       "      <td>Mesa</td>\n",
       "      <td>15466380</td>\n",
       "      <td>101.0</td>\n",
       "      <td>76.0</td>\n",
       "      <td>62696.0</td>\n",
       "    </tr>\n",
       "    <tr>\n",
       "      <th>68</th>\n",
       "      <td>Prescott</td>\n",
       "      <td>14576800</td>\n",
       "      <td>60.0</td>\n",
       "      <td>53.5</td>\n",
       "      <td>51656.0</td>\n",
       "    </tr>\n",
       "    <tr>\n",
       "      <th>...</th>\n",
       "      <td>...</td>\n",
       "      <td>...</td>\n",
       "      <td>...</td>\n",
       "      <td>...</td>\n",
       "      <td>...</td>\n",
       "    </tr>\n",
       "    <tr>\n",
       "      <th>59</th>\n",
       "      <td>Patagonia</td>\n",
       "      <td>132000</td>\n",
       "      <td>2.0</td>\n",
       "      <td>1.0</td>\n",
       "      <td>1088.0</td>\n",
       "    </tr>\n",
       "    <tr>\n",
       "      <th>37</th>\n",
       "      <td>Golden Valley</td>\n",
       "      <td>105000</td>\n",
       "      <td>3.0</td>\n",
       "      <td>2.0</td>\n",
       "      <td>1050.0</td>\n",
       "    </tr>\n",
       "    <tr>\n",
       "      <th>58</th>\n",
       "      <td>Parker</td>\n",
       "      <td>95000</td>\n",
       "      <td>1.0</td>\n",
       "      <td>1.0</td>\n",
       "      <td>600.0</td>\n",
       "    </tr>\n",
       "    <tr>\n",
       "      <th>9</th>\n",
       "      <td>Bouse</td>\n",
       "      <td>59000</td>\n",
       "      <td>2.0</td>\n",
       "      <td>1.0</td>\n",
       "      <td>720.0</td>\n",
       "    </tr>\n",
       "    <tr>\n",
       "      <th>42</th>\n",
       "      <td>Holbrook</td>\n",
       "      <td>45000</td>\n",
       "      <td>2.0</td>\n",
       "      <td>1.0</td>\n",
       "      <td>1221.0</td>\n",
       "    </tr>\n",
       "  </tbody>\n",
       "</table>\n",
       "<p>109 rows × 5 columns</p>\n",
       "</div>"
      ],
      "text/plain": [
       "         Local_area     Price   beds  baths      sqft\n",
       "63          Phoenix  38004632  226.0  168.5  132998.0\n",
       "79       Scottsdale  36105600  108.0   88.0   88250.0\n",
       "57  Paradise Valley  17900000    7.0    9.0    9148.0\n",
       "53             Mesa  15466380  101.0   76.0   62696.0\n",
       "68         Prescott  14576800   60.0   53.5   51656.0\n",
       "..              ...       ...    ...    ...       ...\n",
       "59        Patagonia    132000    2.0    1.0    1088.0\n",
       "37    Golden Valley    105000    3.0    2.0    1050.0\n",
       "58           Parker     95000    1.0    1.0     600.0\n",
       "9             Bouse     59000    2.0    1.0     720.0\n",
       "42         Holbrook     45000    2.0    1.0    1221.0\n",
       "\n",
       "[109 rows x 5 columns]"
      ]
     },
     "execution_count": 18,
     "metadata": {},
     "output_type": "execute_result"
    }
   ],
   "source": [
    "grouped = var.groupby('Local_area').sum().reset_index()\n",
    "total = grouped.sort_values('Price', ascending=False)\n",
    "total"
   ]
  },
  {
   "cell_type": "code",
   "execution_count": 19,
   "id": "b8041c29",
   "metadata": {},
   "outputs": [
    {
     "data": {
      "image/png": "[encoded data removed]",
      "text/plain": [
       "<Figure size 432x288 with 1 Axes>"
      ]
     },
     "metadata": {
      "needs_background": "light"
     },
     "output_type": "display_data"
    }
   ],
   "source": [
    "regions = total.Local_area.head(10)\n",
    "y = total.Price.head(10)\n",
    "\n",
    "pbar = plt.bar(regions, y)\n",
    "plt.xticks(rotation=90)\n",
    "plt.grid()\n",
    "plt.xlabel(\"Regions\")\n",
    "plt.ylabel(\"Prices\")\n",
    "plt.title('Most expensive Region', fontweight = 'bold')\n",
    "plt.show()"
   ]
  },
  {
   "cell_type": "markdown",
   "id": "a9476f55",
   "metadata": {},
   "source": [
    "## Most common # of bedrooms per house"
   ]
  },
  {
   "cell_type": "code",
   "execution_count": 20,
   "id": "84692d30",
   "metadata": {},
   "outputs": [
    {
     "data": {
      "text/plain": [
       "Text(0.5, 1.0, 'Most common Beds per House')"
      ]
     },
     "execution_count": 20,
     "metadata": {},
     "output_type": "execute_result"
    },
    {
     "data": {
      "image/png": "[encoded data removed]",
      "text/plain": [
       "<Figure size 432x288 with 1 Axes>"
      ]
     },
     "metadata": {
      "needs_background": "light"
     },
     "output_type": "display_data"
    }
   ],
   "source": [
    "bed_values = var['beds'].value_counts()\n",
    "bed_values.plot(kind=\"bar\")\n",
    "plt.xlabel(\"Beds\")\n",
    "plt.ylabel(\"House\")\n",
    "plt.title('Most common Beds per House', fontweight = 'bold')"
   ]
  },
  {
   "cell_type": "markdown",
   "id": "6b19e637",
   "metadata": {},
   "source": [
    "## Prices vs. Sqft, Beds, Baths"
   ]
  },
  {
   "cell_type": "code",
   "execution_count": 21,
   "id": "431dc61e",
   "metadata": {},
   "outputs": [
    {
     "data": {
      "text/plain": [
       "Text(0, 0.5, 'Sqft')"
      ]
     },
     "execution_count": 21,
     "metadata": {},
     "output_type": "execute_result"
    },
    {
     "data": {
      "image/png": "[encoded data removed]",
      "text/plain": [
       "<Figure size 432x288 with 1 Axes>"
      ]
     },
     "metadata": {
      "needs_background": "light"
     },
     "output_type": "display_data"
    }
   ],
   "source": [
    "#Prices vs Sqft\n",
    "plt.scatter(var.Price, var.sqft)\n",
    "plt.title('Prices vs. Sqft', fontweight = 'bold')\n",
    "plt.xlabel(\"Price\")\n",
    "plt.ylabel(\"Sqft\")\n",
    "# when you read Prices multiply 10^7 to them"
   ]
  },
  {
   "cell_type": "code",
   "execution_count": 22,
   "id": "d03e04a6",
   "metadata": {},
   "outputs": [
    {
     "data": {
      "text/plain": [
       "Price                                                  15000000\n",
       "address                                  6121 N Nauni Valley Dr\n",
       "Local_area                                      Paradise Valley\n",
       "zipcode                                                   85253\n",
       "beds                                                        4.0\n",
       "baths                                                       5.0\n",
       "sqft                                                     6200.0\n",
       "url           https://www.zillow.com/homedetails/6121-N-Naun...\n",
       "Name: 144, dtype: object"
      ]
     },
     "execution_count": 22,
     "metadata": {},
     "output_type": "execute_result"
    }
   ],
   "source": [
    "max_loc = var.Price.idxmax() #find index of max value\n",
    "var.iloc[max_loc, :]"
   ]
  },
  {
   "cell_type": "code",
   "execution_count": 23,
   "id": "f10ec9c3",
   "metadata": {},
   "outputs": [
    {
     "data": {
      "text/plain": [
       "Text(0, 0.5, 'Beds')"
      ]
     },
     "execution_count": 23,
     "metadata": {},
     "output_type": "execute_result"
    },
    {
     "data": {
      "image/png": "[encoded data removed]",
      "text/plain": [
       "<Figure size 432x288 with 1 Axes>"
      ]
     },
     "metadata": {
      "needs_background": "light"
     },
     "output_type": "display_data"
    }
   ],
   "source": [
    "#Price vs Beds\n",
    "plt.scatter(var.Price, var.beds)\n",
    "plt.title('Prices vs. Beds', fontweight = 'bold')\n",
    "plt.xlabel(\"Price\")\n",
    "plt.ylabel(\"Beds\")"
   ]
  },
  {
   "cell_type": "code",
   "execution_count": 24,
   "id": "c31d51c6",
   "metadata": {},
   "outputs": [
    {
     "data": {
      "text/plain": [
       "Text(0, 0.5, 'Baths')"
      ]
     },
     "execution_count": 24,
     "metadata": {},
     "output_type": "execute_result"
    },
    {
     "data": {
      "image/png": "[encoded data removed]",
      "text/plain": [
       "<Figure size 432x288 with 1 Axes>"
      ]
     },
     "metadata": {
      "needs_background": "light"
     },
     "output_type": "display_data"
    }
   ],
   "source": [
    "#Price vs Baths\n",
    "plt.scatter(var.Price, var.baths)\n",
    "plt.title('Prices vs. Baths', fontweight = 'bold')\n",
    "plt.xlabel(\"Price\")\n",
    "plt.ylabel(\"Baths\")"
   ]
  },
  {
   "cell_type": "markdown",
   "id": "b4d10f91",
   "metadata": {},
   "source": [
    "# Machine learning"
   ]
  },
  {
   "cell_type": "markdown",
   "id": "92fa17f3",
   "metadata": {},
   "source": [
    "## Address Outliers"
   ]
  },
  {
   "cell_type": "code",
   "execution_count": 25,
   "id": "77007dc3",
   "metadata": {},
   "outputs": [
    {
     "data": {
      "text/plain": [
       "Price                                                  15000000\n",
       "address                                  6121 N Nauni Valley Dr\n",
       "Local_area                                      Paradise Valley\n",
       "zipcode                                                   85253\n",
       "beds                                                        4.0\n",
       "baths                                                       5.0\n",
       "sqft                                                     6200.0\n",
       "url           https://www.zillow.com/homedetails/6121-N-Naun...\n",
       "Name: 144, dtype: object"
      ]
     },
     "execution_count": 25,
     "metadata": {},
     "output_type": "execute_result"
    }
   ],
   "source": [
    "max_loc = var.Price.idxmax()\n",
    "var.iloc[max_loc, :]"
   ]
  },
  {
   "cell_type": "code",
   "execution_count": 26,
   "id": "464b4eea",
   "metadata": {},
   "outputs": [
    {
     "data": {
      "text/html": [
       "<div>\n",
       "<style scoped>\n",
       "    .dataframe tbody tr th:only-of-type {\n",
       "        vertical-align: middle;\n",
       "    }\n",
       "\n",
       "    .dataframe tbody tr th {\n",
       "        vertical-align: top;\n",
       "    }\n",
       "\n",
       "    .dataframe thead th {\n",
       "        text-align: right;\n",
       "    }\n",
       "</style>\n",
       "<table border=\"1\" class=\"dataframe\">\n",
       "  <thead>\n",
       "    <tr style=\"text-align: right;\">\n",
       "      <th></th>\n",
       "      <th>Price</th>\n",
       "      <th>address</th>\n",
       "      <th>Local_area</th>\n",
       "      <th>zipcode</th>\n",
       "      <th>beds</th>\n",
       "      <th>baths</th>\n",
       "      <th>sqft</th>\n",
       "      <th>url</th>\n",
       "    </tr>\n",
       "  </thead>\n",
       "  <tbody>\n",
       "    <tr>\n",
       "      <th>453</th>\n",
       "      <td>4250000</td>\n",
       "      <td>10076 E Paradise Drive</td>\n",
       "      <td>Scottsdale</td>\n",
       "      <td>85260</td>\n",
       "      <td>8.0</td>\n",
       "      <td>8.0</td>\n",
       "      <td>8625.0</td>\n",
       "      <td>https://www.point2homes.com/US/Home-For-Sale/A...</td>\n",
       "    </tr>\n",
       "  </tbody>\n",
       "</table>\n",
       "</div>"
      ],
      "text/plain": [
       "       Price                 address  Local_area zipcode  beds  baths    sqft  \\\n",
       "453  4250000  10076 E Paradise Drive  Scottsdale   85260   8.0    8.0  8625.0   \n",
       "\n",
       "                                                   url  \n",
       "453  https://www.point2homes.com/US/Home-For-Sale/A...  "
      ]
     },
     "execution_count": 26,
     "metadata": {},
     "output_type": "execute_result"
    }
   ],
   "source": [
    "var2 = var.drop(var.index[144], axis=0)\n",
    "var2.loc[var2.Price == var2.Price.max(), :]"
   ]
  },
  {
   "cell_type": "markdown",
   "id": "27596e8d",
   "metadata": {},
   "source": [
    "## Trainning and Predicting"
   ]
  },
  {
   "cell_type": "code",
   "execution_count": 27,
   "id": "847d974f",
   "metadata": {},
   "outputs": [],
   "source": [
    "# Data you want to predict\n",
    "y = var2.Price\n",
    "\n",
    "# list of features\n",
    "features = ['beds', \"baths\", 'sqft']\n",
    "X = var2[features]"
   ]
  },
  {
   "cell_type": "code",
   "execution_count": 28,
   "id": "8d19479d",
   "metadata": {},
   "outputs": [
    {
     "data": {
      "text/plain": [
       "93.15"
      ]
     },
     "execution_count": 28,
     "metadata": {},
     "output_type": "execute_result"
    }
   ],
   "source": [
    "from sklearn.model_selection import train_test_split\n",
    "from sklearn.ensemble import RandomForestRegressor\n",
    "from sklearn.metrics import mean_absolute_error\n",
    "\n",
    "# Random Forest Regressor model\n",
    "train_X, val_X, train_y, val_y = train_test_split(X, y, random_state = 1)\n",
    "melbourne_model = RandomForestRegressor(random_state = 1)\n",
    "melbourne_model.fit(train_X, train_y)\n",
    "val_predictions = melbourne_model.predict(val_X)\n",
    "# print(mean_absolute_error(val_y, val_predictions))\n",
    "\n",
    "# Confidence Score\n",
    "acc_random_forest = round(melbourne_model.score(train_X, train_y) * 100, 2)\n",
    "acc_random_forest"
   ]
  },
  {
   "cell_type": "code",
   "execution_count": 29,
   "id": "1595dbb6",
   "metadata": {},
   "outputs": [
    {
     "data": {
      "text/plain": [
       "96.91"
      ]
     },
     "execution_count": 29,
     "metadata": {},
     "output_type": "execute_result"
    }
   ],
   "source": [
    "# Random Forest Classifier\n",
    "from sklearn.ensemble import RandomForestClassifier\n",
    "\n",
    "random_forest = RandomForestClassifier(n_estimators=100)\n",
    "random_forest.fit(train_X, train_y)\n",
    "Y_pred = random_forest.predict(val_X)\n",
    "random_forest.score(train_X, train_y)\n",
    "acc_random_forest = round(random_forest.score(train_X, train_y) * 100, 2)\n",
    "acc_random_forest"
   ]
  },
  {
   "cell_type": "code",
   "execution_count": null,
   "id": "f6255318",
   "metadata": {},
   "outputs": [],
   "source": []
  }
 ],
 "metadata": {
  "kernelspec": {
   "display_name": "Python 3",
   "language": "python",
   "name": "python3"
  },
  "language_info": {
   "codemirror_mode": {
    "name": "ipython",
    "version": 3
   },
   "file_extension": ".py",
   "mimetype": "text/x-python",
   "name": "python",
   "nbconvert_exporter": "python",
   "pygments_lexer": "ipython3",
   "version": "3.8.8"
  }
 },
 "nbformat": 4,
 "nbformat_minor": 5
}
